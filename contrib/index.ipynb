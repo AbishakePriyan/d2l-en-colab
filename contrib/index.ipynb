{
 "cells": [
  {
   "cell_type": "markdown",
   "metadata": {},
   "source": [
    " - [BERT](BERT.ipynb)\n",
    " - [BERT-processing](BERT-processing.ipynb)\n",
    " - [BERT-fine-tune](BERT-fine-tune.ipynb)\n",
    " - [BERT-NLU](BERT-NLU.ipynb)\n"
   ]
  }
 ],
 "metadata": {
  "kernelspec": {
   "display_name": "Python 3",
   "name": "python3"
  },
  "language_info": {
   "name": "python"
  }
 },
 "nbformat": 4,
 "nbformat_minor": 2
}