{
 "cells": [
  {
   "cell_type": "markdown",
   "metadata": {},
   "source": [
    "# Generative Adversarial Networks\n",
    "\n",
    ":label:`chap_gans`"
   ]
  },
  {
   "cell_type": "markdown",
   "metadata": {},
   "source": [
    ":begin_tab:toc\n",
    " - [gan](gan.ipynb)\n",
    " - [dcgan](dcgan.ipynb)\n",
    ":end_tab:\n"
   ]
  }
 ],
 "metadata": {
  "kernelspec": {
   "display_name": "Python 3",
   "name": "python3"
  },
  "language_info": {
   "name": "python"
  }
 },
 "nbformat": 4,
 "nbformat_minor": 2
}