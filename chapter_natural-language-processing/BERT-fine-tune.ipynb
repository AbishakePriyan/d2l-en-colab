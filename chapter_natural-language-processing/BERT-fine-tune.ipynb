{
 "cells": [
  {
   "cell_type": "markdown",
   "metadata": {},
   "source": [
    "# BERT Fine-Tune\n",
    "\n",
    "...\n",
    "\n",
    "\n",
    "![single sentence](http://d2l.ai/_images/bert_single_sentence.svg)\n",
    "\n",
    "...\n",
    "![sentence pair](http://d2l.ai/_images/bert_sentence_pair.svg)\n",
    "\n",
    "...\n",
    "![question answering](http://d2l.ai/_images/bert_question_answering.svg)\n",
    "\n",
    "...\n",
    "![named entity recognition](http://d2l.ai/_images/bert_named_entity_recognition.svg)\n",
    "\n",
    "..."
   ]
  }
 ],
 "metadata": {
  "kernelspec": {
   "display_name": "Python 3",
   "name": "python3"
  },
  "language_info": {
   "name": "python"
  }
 },
 "nbformat": 4,
 "nbformat_minor": 2
}